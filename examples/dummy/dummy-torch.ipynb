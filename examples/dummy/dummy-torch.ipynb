{
 "cells": [
  {
   "cell_type": "markdown",
   "id": "3802ff09-81f0-4816-9668-f64446912d9b",
   "metadata": {},
   "source": [
    "# Dummy Torch placeholder\n",
    "\n",
    "This is just a dummy placeholder to represent torch/cuda usage with CI. It does nothing other than print if cuda is available using torch."
   ]
  },
  {
   "cell_type": "markdown",
   "id": "bf245665-7ca3-46d6-ac1e-c15bc311b84d",
   "metadata": {},
   "source": [
    "## Environment Setup <a name=\"environment-setup\"></a>\n",
    "\n",
    "Here we setup the invironment with torch."
   ]
  },
  {
   "cell_type": "code",
   "execution_count": 1,
   "id": "372f2acc-ee12-4912-a3bf-b8a2473d719c",
   "metadata": {},
   "outputs": [
    {
     "name": "stdout",
     "output_type": "stream",
     "text": [
      "Installing Hugging Face datasets...\n",
      "Installing Hugging Face transformers...\n",
      "Installing matplotlib...\n",
      "Installing xaitk-saliency...\n",
      "Installing timm...\n",
      "Done!\n"
     ]
    }
   ],
   "source": [
    "import sys\n",
    "!{sys.executable} -m pip install -qU pip\n",
    "print(\"Installing torch...\")\n",
    "!{sys.executable} -m pip install -q torch\n",
    "print(\"Done!\")"
   ]
  }
 ],
 "metadata": {
  "kernelspec": {
   "display_name": "ci-env",
   "language": "python",
   "name": "ci-env"
  },
  "language_info": {
   "codemirror_mode": {
    "name": "ipython",
    "version": 3
   },
   "file_extension": ".py",
   "mimetype": "text/x-python",
   "name": "python",
   "nbconvert_exporter": "python",
   "pygments_lexer": "ipython3",
   "version": "3.9.5"
  },
  "vscode": {
   "interpreter": {
    "hash": "36cf16204b8548560b1c020c4e8fb5b57f0e4c58016f52f2d4be01e192833930"
   }
  }
 },
 "nbformat": 4,
 "nbformat_minor": 5
}
