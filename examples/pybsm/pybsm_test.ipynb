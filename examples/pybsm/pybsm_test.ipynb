{
 "cells": [
  {
   "attachments": {},
   "cell_type": "markdown",
   "metadata": {},
   "source": [
    "This notebook can be used to run an example image through a series of pertubations as defined by the parameters provided to the pybsm package. In order to use this notebook please install all the dependencies as described in the README\n",
    "\n",
    "**PyBSM Generator will be added once it is integrated the full pertubation pipeline functionality will be added**"
   ]
  },
  {
   "cell_type": "code",
   "execution_count": 1,
   "metadata": {},
   "outputs": [],
   "source": [
    "import numpy as np\n",
    "import matplotlib.pyplot as plt\n",
    "import pybsm\n",
    "import copy\n",
    "from nrtk.impls.perturb_pybsm.StoreSensor import StoreSensor\n",
    "from nrtk.impls.perturb_pybsm.StoreScenario import StoreScenario"
   ]
  },
  {
   "attachments": {},
   "cell_type": "markdown",
   "metadata": {},
   "source": [
    "First we define the StoreSensor parameters. These parameters describe the sensor that was used to capture the original image."
   ]
  },
  {
   "cell_type": "code",
   "execution_count": 2,
   "metadata": {},
   "outputs": [],
   "source": [
    "#dirpath = os.path.dirname(os.path.abspath(__file__))\n",
    "imgfile = './data/M-41 Walker Bulldog (USA) width 319cm height 272cm.tiff'\n",
    "\n",
    "name = 'L32511x'\n",
    "\n",
    "#telescope focal length (m)\n",
    "f=4                     \n",
    "# Telescope diameter (m)\n",
    "D=275e-3               \n",
    "\n",
    "#detector pitch (m)\n",
    "p=.008e-3    \n",
    "       \n",
    "#Optical system transmission, red  band first (m)\n",
    "optTransWavelengths = np.array([0.58-.08,0.58+.08])*1.0e-6\n",
    "#guess at the full system optical transmission (excluding obscuration)\n",
    "opticsTransmission=0.5*np.ones(optTransWavelengths.shape[0]) \n",
    "\n",
    "# Relative linear telescope obscuration\n",
    "eta=0.4 #guess     \n",
    "\n",
    "#detector width is assumed to be equal to the pitch\n",
    "wx=p                    \n",
    "wy=p \n",
    "#integration time (s) - this is a maximum, the actual integration time will be\n",
    "#determined by the well fill percentage\n",
    "intTime=30.0e-3 \n",
    "\n",
    "#dark current density of 1 nA/cm2 guess, guess mid range for a silicon camera\n",
    "darkCurrent = pybsm.darkCurrentFromDensity(1e-5,wx,wy)\n",
    "\n",
    "#rms read noise (rms electrons)\n",
    "readNoise=25.0 \n",
    "\n",
    "#maximum ADC level (electrons)\n",
    "maxN=96000.0\n",
    "\n",
    "#bit depth\n",
    "bitdepth=11.9\n",
    "\n",
    "#maximum allowable well fill (see the paper for the logic behind this)\n",
    "maxWellFill = .6\n",
    "\n",
    "#jitter (radians) - The Olson paper says that its \"good\" so we'll guess 1/4 ifov rms\n",
    "sx = 0.25*p/f\n",
    "sy = sx\n",
    "\n",
    "#drift (radians/s) - again, we'll guess that it's really good\n",
    "dax = 100e-6\n",
    "day = dax\n",
    "\n",
    "#etector quantum efficiency as a function of wavelength (microns) \n",
    "#for a generic high quality back-illuminated silicon array\n",
    "# https://www.photometrics.com/resources/learningzone/quantumefficiency.php\n",
    "qewavelengths=np.array([.3, .4, .5, .6, .7, .8, .9, 1.0, 1.1])*1.0e-6\n",
    "qe=np.array([0.05, 0.6, 0.75, 0.85, .85, .75, .5, .2, 0])\n",
    "\n",
    "sensor = StoreSensor(name, D, f, p, optTransWavelengths,\n",
    "                                opticsTransmission, eta, wx, wy,\n",
    "                                intTime, darkCurrent, readNoise,\n",
    "                                maxN, bitdepth, maxWellFill, sx, sy,\n",
    "                                dax, day, qewavelengths, qe)"
   ]
  },
  {
   "attachments": {},
   "cell_type": "markdown",
   "metadata": {},
   "source": [
    "Next we define the StoreScenario parameters. These parameters all have to do with the environmental factors that are present in the image and affect the image quality."
   ]
  },
  {
   "cell_type": "code",
   "execution_count": 3,
   "metadata": {},
   "outputs": [],
   "source": [
    "#sensor altitude\n",
    "altitude=9000.0\n",
    "#range to target\n",
    "groundRange = 60000.0\n",
    "\n",
    "scenario_name = 'niceday'\n",
    "#weather model\n",
    "ihaze = 1\n",
    "\n",
    "scenario = StoreScenario(scenario_name,ihaze,altitude,groundRange)\n",
    "scenario.aircraftSpeed = 100.0 #ground speed in m/s"
   ]
  }
 ],
 "metadata": {
  "kernelspec": {
   "display_name": "nrtk",
   "language": "python",
   "name": "python3"
  },
  "language_info": {
   "codemirror_mode": {
    "name": "ipython",
    "version": 3
   },
   "file_extension": ".py",
   "mimetype": "text/x-python",
   "name": "python",
   "nbconvert_exporter": "python",
   "pygments_lexer": "ipython3",
   "version": "3.8.17"
  },
  "orig_nbformat": 4,
  "vscode": {
   "interpreter": {
    "hash": "ba658938bc95c89a26b8a8cbf439fe014965354d1dda70d372234e6c1b4df133"
   }
  }
 },
 "nbformat": 4,
 "nbformat_minor": 2
}
