{
 "cells": [
  {
   "attachments": {},
   "cell_type": "markdown",
   "metadata": {},
   "source": [
    "# Example Notebook for Testing pyBSM Perturbers\n",
    "You can use this notebook to run an example image through a series of perturbations as defined by the parameters provided to the pybsm package. To use this notebook, install all the dependencies as described in the [README](../README.md).\n",
    "\n",
    "## Table of Contents\n",
    "* [Set Up the Environment](#environment-setup)\n",
    "* [Define PybsmSensor Parameters](#pybsmsensor-params)\n",
    "* [Define PybsmScenario Parameters](#pybsmscenario-params)\n",
    "\n",
    "To run this notebook in Colab, use the link below:\n",
    "\n",
    "[![Open In Colab](https://colab.research.google.com/assets/colab-badge.svg)](https://colab.research.google.com/github/Kitware/nrtk/blob/main/examples/pybsm/pybsm_test.ipynb)"
   ]
  },
  {
   "cell_type": "markdown",
   "metadata": {},
   "source": [
    "## Set Up the Environment <a name=\"environment-setup\"></a>\n",
    "\n",
    "**Note for Colab users**: After setting up the environment, you may need to \"Restart Runtime\" in order to resolve package version conflicts (see the [README](../README.md) for more info)."
   ]
  },
  {
   "cell_type": "markdown",
   "metadata": {},
   "source": [
    "Note: We are suppressing warnings within this notebook to reduce visual clutter for demonstration purposes. If any issues arise while executing this notebook, we recommend that this cell is **not** executed so that any related warnings are shown. "
   ]
  },
  {
   "cell_type": "code",
   "execution_count": 1,
   "metadata": {},
   "outputs": [],
   "source": [
    "import warnings\n",
    "warnings.filterwarnings('ignore')"
   ]
  },
  {
   "cell_type": "code",
   "execution_count": 2,
   "metadata": {},
   "outputs": [
    {
     "name": "stdout",
     "output_type": "stream",
     "text": [
      "Installing nrtk...\n"
     ]
    }
   ],
   "source": [
    "import sys\n",
    "\n",
    "!{sys.executable} -m pip install -qU pip\n",
    "print(\"Installing nrtk...\")\n",
    "!{sys.executable} -m pip install -q nrtk\n",
    "print(\"Installing headless OpenCV...\")\n",
    "!{sys.executable} -m pip uninstall -qy opencv-python opencv-python-headless  # make sure they're both gone.\n",
    "!{sys.executable} -m pip install -q opencv-python-headless"
   ]
  },
  {
   "cell_type": "markdown",
   "metadata": {},
   "source": [
    "**PyBSM Generator will be added once it is integrated the full pertubation pipeline functionality will be added**"
   ]
  },
  {
   "cell_type": "code",
   "execution_count": 3,
   "metadata": {},
   "outputs": [],
   "source": [
    "import os\n",
    "import urllib.request\n",
    "import numpy as np\n",
    "import matplotlib.pyplot as plt\n",
    "import pybsm\n",
    "import copy\n",
    "from nrtk.impls.perturb_image.pybsm.sensor import PybsmSensor\n",
    "from nrtk.impls.perturb_image.pybsm.scenario import PybsmScenario"
   ]
  },
  {
   "attachments": {},
   "cell_type": "markdown",
   "metadata": {},
   "source": [
    "## Define PybsmSensor Parameters <a name=\"pybsmsensor-params\"></a>\n",
    "\n",
    "First, we define the PybsmSensor parameters. These parameters describe the sensor that was used to capture the original image."
   ]
  },
  {
   "cell_type": "code",
   "execution_count": 4,
   "metadata": {},
   "outputs": [],
   "source": [
    "#dirpath = os.path.dirname(os.path.abspath(__file__))\n",
    "data_dir = './data'\n",
    "os.makedirs(data_dir, exist_ok=True)\n",
    "\n",
    "url = 'https://data.kitware.com/api/v1/item/6596fde89c30d6f4e17c9efc/download'\n",
    "\n",
    "img_path = os.path.join(data_dir, 'M-41 Walker Bulldog (USA) width 319cm height 272cm.tiff')\n",
    "\n",
    "if not os.path.isfile(img_path):\n",
    "    _ = urllib.request.urlretrieve(url, img_path)\n",
    "\n",
    "imgfile = './data/M-41 Walker Bulldog (USA) width 319cm height 272cm.tiff'\n",
    "\n",
    "name = 'L32511x'\n",
    "\n",
    "#telescope focal length (m)\n",
    "f=4                     \n",
    "# Telescope diameter (m)\n",
    "D=275e-3               \n",
    "\n",
    "#detector pitch (m)\n",
    "p=.008e-3    \n",
    "       \n",
    "#Optical system transmission, red  band first (m)\n",
    "optTransWavelengths = np.array([0.58-.08,0.58+.08])*1.0e-6\n",
    "#guess at the full system optical transmission (excluding obscuration)\n",
    "opticsTransmission=0.5*np.ones(optTransWavelengths.shape[0]) \n",
    "\n",
    "# Relative linear telescope obscuration\n",
    "eta=0.4 #guess     \n",
    "\n",
    "#detector width is assumed to be equal to the pitch\n",
    "wx=p                    \n",
    "wy=p \n",
    "#integration time (s) - this is a maximum, the actual integration time will be\n",
    "#determined by the well fill percentage\n",
    "intTime=30.0e-3 \n",
    "\n",
    "#dark current density of 1 nA/cm2 guess, guess mid range for a silicon camera\n",
    "darkCurrent = pybsm.darkCurrentFromDensity(1e-5,wx,wy)\n",
    "\n",
    "#rms read noise (rms electrons)\n",
    "readNoise=25.0 \n",
    "\n",
    "#maximum ADC level (electrons)\n",
    "maxN=96000.0\n",
    "\n",
    "#bit depth\n",
    "bitdepth=11.9\n",
    "\n",
    "#maximum allowable well fill (see the paper for the logic behind this)\n",
    "maxWellFill = .6\n",
    "\n",
    "#jitter (radians) - The Olson paper says that its \"good\" so we'll guess 1/4 ifov rms\n",
    "sx = 0.25*p/f\n",
    "sy = sx\n",
    "\n",
    "#drift (radians/s) - again, we'll guess that it's really good\n",
    "dax = 100e-6\n",
    "day = dax\n",
    "\n",
    "#etector quantum efficiency as a function of wavelength (microns) \n",
    "#for a generic high quality back-illuminated silicon array\n",
    "# https://www.photometrics.com/resources/learningzone/quantumefficiency.php\n",
    "qewavelengths=np.array([.3, .4, .5, .6, .7, .8, .9, 1.0, 1.1])*1.0e-6\n",
    "qe=np.array([0.05, 0.6, 0.75, 0.85, .85, .75, .5, .2, 0])\n",
    "\n",
    "sensor = PybsmSensor(name, D, f, p, optTransWavelengths,\n",
    "                                opticsTransmission, eta, wx, wy,\n",
    "                                intTime, darkCurrent, readNoise,\n",
    "                                maxN, bitdepth, maxWellFill, sx, sy,\n",
    "                                dax, day, qewavelengths, qe)"
   ]
  },
  {
   "attachments": {},
   "cell_type": "markdown",
   "metadata": {},
   "source": [
   "## Define PybsmScenario Parameters <a name=\"pybsmscenario-params\"></a>\n",
    "\n",
    "Next, we define the PybsmScenario parameters. These parameters relate to the environmental factors that are present in the image and affect the image quality."
   ]
  },
  {
   "cell_type": "code",
   "execution_count": 5,
   "metadata": {},
   "outputs": [],
   "source": [
    "#sensor altitude\n",
    "altitude=9000.0\n",
    "#range to target\n",
    "groundRange = 60000.0\n",
    "\n",
    "scenario_name = 'niceday'\n",
    "#weather model\n",
    "ihaze = 1\n",
    "\n",
    "scenario = PybsmScenario(scenario_name,ihaze,altitude,groundRange)\n",
    "scenario.aircraftSpeed = 100.0 #ground speed in m/s"
   ]
  }
 ],
 "metadata": {
  "kernelspec": {
   "display_name": "nrtk",
   "language": "python",
   "name": "python3"
  },
  "language_info": {
   "codemirror_mode": {
    "name": "ipython",
    "version": 3
   },
   "file_extension": ".py",
   "mimetype": "text/x-python",
   "name": "python",
   "nbconvert_exporter": "python",
   "pygments_lexer": "ipython3",
   "version": "3.8.1"
  },
  "orig_nbformat": 4,
  "vscode": {
   "interpreter": {
    "hash": "ba658938bc95c89a26b8a8cbf439fe014965354d1dda70d372234e6c1b4df133"
   }
  }
 },
 "nbformat": 4,
 "nbformat_minor": 2
}
